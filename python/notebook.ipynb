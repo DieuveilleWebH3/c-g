{
 "cells": [
  {
   "cell_type": "markdown",
   "id": "de783cbf",
   "metadata": {},
   "source": [
    "## Exo 1\n",
    "\n",
    "\n",
    "### Weird request not to use json.dumps() but have the same result / effect \n",
    "\n"
   ]
  },
  {
   "cell_type": "code",
   "execution_count": 1,
   "id": "ca4991a4",
   "metadata": {},
   "outputs": [],
   "source": [
    "def json_dumps(x):\n",
    "    if type(x) == int or type(x) == float: \n",
    "        return str(x)\n",
    "    \n",
    "    elif type(x) == str:         \n",
    "        return '\\\"' + str(x) + '\\\"' \n",
    "    \n",
    "    elif type(x) == list:         \n",
    "        y = \"[\"\n",
    "        for i in x:\n",
    "            if i == x[-1]:\n",
    "                if i == None or i == \"None\":\n",
    "                    y += \"null\"\n",
    "                else:\n",
    "                    y += str(i).lower() \n",
    "            else:\n",
    "                if i == None or i == \"None\":\n",
    "                    y += \"null\" + \",\"\n",
    "                else:\n",
    "                    y += str(i).lower() + \",\"\n",
    "        y += \"]\"\n",
    "        return y\n",
    "    \n",
    "    elif type(x) == dict:         \n",
    "        y = \"{\"\n",
    "        for a, b in x.items():\n",
    "            if type(b) == list:\n",
    "                y += \"\\\"\" + str(a) + \"\\\":\"\n",
    "                for i in b:\n",
    "                    y += \"[\\\"\" + str(i) + \"\\\"]\" \n",
    "            else:\n",
    "                y += \"\\\"\" + str(a) + \"\\\":\\\"\" + str(b) + \"\\\"\" \n",
    "        y += \"}\"\n",
    "        \n",
    "        return y\n",
    "    "
   ]
  },
  {
   "cell_type": "code",
   "execution_count": 2,
   "id": "425e6971",
   "metadata": {},
   "outputs": [
    {
     "name": "stdout",
     "output_type": "stream",
     "text": [
      "1\n",
      "\n",
      "1.2\n",
      "\n",
      "\"foo\"\n",
      "\n",
      "\"foo\"\n",
      "\n",
      "[null,true,false]\n",
      "\n",
      "{\"foo\":\"bar\"}\n",
      "\n",
      "{\"foo\":[\"bar\"]}\n"
     ]
    }
   ],
   "source": [
    "print(json_dumps(1))\n",
    "\n",
    "assert json_dumps(1) == '1'\n",
    "\n",
    "print()\n",
    "\n",
    "\n",
    "\n",
    "print(json_dumps(1.2))\n",
    "\n",
    "assert json_dumps(1.2) == '1.2'\n",
    "\n",
    "print()\n",
    "\n",
    "\n",
    "\n",
    "print(json_dumps(\"foo\"))\n",
    "\n",
    "assert json_dumps(\"foo\") == '\"foo\"'\n",
    "\n",
    "print()\n",
    "\n",
    "\n",
    "\n",
    "print(json_dumps(\"foo\"))\n",
    "\n",
    "assert json_dumps(\"foo\") == '\"foo\"'\n",
    "\n",
    "assert json_dumps('foo') == '\"foo\"'\n",
    "\n",
    "print()\n",
    "\n",
    "\n",
    "\n",
    "print(json_dumps([None, True, False]))\n",
    "\n",
    "assert json_dumps([None, True, False]) == '[null,true,false]'\n",
    "\n",
    "print()\n",
    "\n",
    "\n",
    "\n",
    "print(json_dumps({\"foo\": \"bar\"}))\n",
    "\n",
    "assert json_dumps({\"foo\": \"bar\"}) == '{\"foo\":\"bar\"}'\n",
    "\n",
    "print()\n",
    "\n",
    "\n",
    "\n",
    "print(json_dumps({\"foo\": [\"bar\"]}))\n",
    "\n",
    "assert json_dumps({\"foo\": [\"bar\"]}) == '{\"foo\":[\"bar\"]}'"
   ]
  },
  {
   "cell_type": "code",
   "execution_count": null,
   "id": "85b79947",
   "metadata": {},
   "outputs": [],
   "source": []
  },
  {
   "cell_type": "code",
   "execution_count": null,
   "id": "0bcee894",
   "metadata": {},
   "outputs": [],
   "source": []
  },
  {
   "cell_type": "code",
   "execution_count": null,
   "id": "c201ce63",
   "metadata": {},
   "outputs": [],
   "source": []
  },
  {
   "cell_type": "markdown",
   "id": "83ab3892",
   "metadata": {},
   "source": [
    "## Exo 2 \n",
    "\n",
    "\n",
    "### slice two by two \n",
    "\n"
   ]
  },
  {
   "cell_type": "code",
   "execution_count": 3,
   "id": "c21c1bfb",
   "metadata": {},
   "outputs": [],
   "source": [
    "def cut1(x):\n",
    "    y = \"\" \n",
    "    for i in x:\n",
    "        y += str(i)\n",
    "        \n",
    "    o = []\n",
    "    while y:\n",
    "        o.append(y[:2])\n",
    "        y = y[2:]\n",
    "    \n",
    "    print(o)\n",
    "    \n",
    "    \n",
    "    \n",
    "def cut(x, y):\n",
    "    z = \"\" \n",
    "    \n",
    "    for i in x:\n",
    "        z += str(i)\n",
    "        \n",
    "    o = []\n",
    "    \n",
    "    y = int(y)\n",
    "    \n",
    "    while z:\n",
    "        o.append(z[:y])\n",
    "        z = z[y:]\n",
    "    \n",
    "    print(o)\n",
    "    \n",
    "    \n"
   ]
  },
  {
   "cell_type": "code",
   "execution_count": 4,
   "id": "ca9759f2",
   "metadata": {},
   "outputs": [
    {
     "name": "stdout",
     "output_type": "stream",
     "text": [
      "['12', '34', 'ds', 'fr', '56', '78', '90', '12', '3']\n",
      "\n",
      "****************************************\n",
      "\n",
      "['123', '4ds', 'fr5', '678', '901', '23']\n"
     ]
    }
   ],
   "source": [
    "cut1 ([123, 4, \"dsfr\", 567, \"8\", 90, \"123\"])\n",
    "\n",
    "print()\n",
    "print(\"****************************************\")\n",
    "print()\n",
    "\n",
    "cut([123, 4, \"dsfr\", 567, \"8\", 90, \"123\"], 3)"
   ]
  },
  {
   "cell_type": "code",
   "execution_count": null,
   "id": "b4250144",
   "metadata": {},
   "outputs": [],
   "source": []
  },
  {
   "cell_type": "code",
   "execution_count": null,
   "id": "2cda572d",
   "metadata": {},
   "outputs": [],
   "source": []
  },
  {
   "cell_type": "code",
   "execution_count": null,
   "id": "21cf710e",
   "metadata": {},
   "outputs": [],
   "source": []
  },
  {
   "cell_type": "code",
   "execution_count": null,
   "id": "99eb8ba5",
   "metadata": {},
   "outputs": [],
   "source": []
  },
  {
   "cell_type": "markdown",
   "id": "06f86637",
   "metadata": {},
   "source": [
    "## Exo 3\n",
    "\n",
    "#### Dans cet exercice, on vous demande d'écrire un programme capable d'analyser un relevé de températures pour trouver quelle température se rapproche le plus de zéro. \n",
    "\n",
    "### Implémentez la fonction compute_closest_to_zero(ts) qui prend un tableau de températures ts en paramètre et renvoie la température la plus proche de zéro.\n",
    "\n",
    "### Contraintes :\n",
    "  - Si le tableau est vide, la fonction doit renvoyer 0 \n",
    "  - 0 ≤ taille ts ≤ 10000 \n",
    "  - Si deux températures sont aussi proches de zéro, la fonction devra renvoyer la température positive \n",
    "    \n",
    "  ** (par exemple si les températures sont -5 et 5, renvoyez 5).\n"
   ]
  },
  {
   "cell_type": "code",
   "execution_count": 61,
   "id": "2416fa1b",
   "metadata": {},
   "outputs": [],
   "source": [
    "# ts = [7, 5, 9, 1, 4,]\n",
    "\n",
    "# ts = [15, -7, 9, 14, 7, 12]\n",
    "\n",
    "# ts = [-273]\n",
    "\n",
    "# ts = [5526]\n",
    "\n",
    "# ts = [-15, -7, -9, -14, -12]\n",
    "\n",
    "# ts = [-10, -10]\n",
    "\n",
    "# ts = [-15, -7, -9, -14, -12] \n",
    "\n",
    "# ts = []"
   ]
  },
  {
   "cell_type": "code",
   "execution_count": 63,
   "id": "feceb497",
   "metadata": {},
   "outputs": [],
   "source": [
    "import sys\n",
    "import math\n",
    "from contextlib import redirect_stdout\n",
    "\n",
    "\n",
    "def compute_closest_to_zero(ts):\n",
    "    # Write your code here\n",
    "    \n",
    "    if len(ts) == 0:\n",
    "        return 0\n",
    "    else:\n",
    "        if len(ts) == 1 and 0 not in ts:\n",
    "            return ts[0]\n",
    "        \n",
    "        if 0 in ts:\n",
    "            ts.remove(0)\n",
    "        \n",
    "        temp = list(min((abs(x), x) for x in ts))\n",
    "        \n",
    "        if len(temp) == 1:\n",
    "            return temp[0]\n",
    "        else:\n",
    "            if temp[0] == temp[1]:\n",
    "                return temp[0]\n",
    "            elif temp[0] not in ts:\n",
    "                return temp[1]\n",
    "            else:\n",
    "                return temp[0]\n"
   ]
  },
  {
   "cell_type": "code",
   "execution_count": 7,
   "id": "e603cbd8",
   "metadata": {},
   "outputs": [
    {
     "data": {
      "text/plain": [
       "1"
      ]
     },
     "execution_count": 7,
     "metadata": {},
     "output_type": "execute_result"
    }
   ],
   "source": [
    "compute_closest_to_zero([7, 5, 9, 1, 4,])"
   ]
  },
  {
   "cell_type": "code",
   "execution_count": 8,
   "id": "4fc1ff37",
   "metadata": {},
   "outputs": [
    {
     "data": {
      "text/plain": [
       "1"
      ]
     },
     "execution_count": 8,
     "metadata": {},
     "output_type": "execute_result"
    }
   ],
   "source": [
    "compute_closest_to_zero([7, -5, 9, 1, 4,])"
   ]
  },
  {
   "cell_type": "code",
   "execution_count": 9,
   "id": "d14480c4",
   "metadata": {},
   "outputs": [
    {
     "data": {
      "text/plain": [
       "7"
      ]
     },
     "execution_count": 9,
     "metadata": {},
     "output_type": "execute_result"
    }
   ],
   "source": [
    "compute_closest_to_zero([15, -7, 9, 14, 7, 12, 0])"
   ]
  },
  {
   "cell_type": "code",
   "execution_count": 10,
   "id": "1093693a",
   "metadata": {},
   "outputs": [
    {
     "data": {
      "text/plain": [
       "7"
      ]
     },
     "execution_count": 10,
     "metadata": {},
     "output_type": "execute_result"
    }
   ],
   "source": [
    "compute_closest_to_zero([15, -7, 9, 14, 7, 12])"
   ]
  },
  {
   "cell_type": "code",
   "execution_count": 11,
   "id": "12834b2e",
   "metadata": {},
   "outputs": [
    {
     "data": {
      "text/plain": [
       "-273"
      ]
     },
     "execution_count": 11,
     "metadata": {},
     "output_type": "execute_result"
    }
   ],
   "source": [
    "compute_closest_to_zero([-273])"
   ]
  },
  {
   "cell_type": "code",
   "execution_count": 12,
   "id": "28525ffb",
   "metadata": {},
   "outputs": [
    {
     "data": {
      "text/plain": [
       "5526"
      ]
     },
     "execution_count": 12,
     "metadata": {},
     "output_type": "execute_result"
    }
   ],
   "source": [
    "compute_closest_to_zero([5526])"
   ]
  },
  {
   "cell_type": "code",
   "execution_count": 13,
   "id": "6bf84b1b",
   "metadata": {},
   "outputs": [
    {
     "data": {
      "text/plain": [
       "-7"
      ]
     },
     "execution_count": 13,
     "metadata": {},
     "output_type": "execute_result"
    }
   ],
   "source": [
    "compute_closest_to_zero([-15, -7, -9, -14, -12])"
   ]
  },
  {
   "cell_type": "code",
   "execution_count": 14,
   "id": "8943c6b2",
   "metadata": {},
   "outputs": [
    {
     "data": {
      "text/plain": [
       "-10"
      ]
     },
     "execution_count": 14,
     "metadata": {},
     "output_type": "execute_result"
    }
   ],
   "source": [
    "compute_closest_to_zero([-10, -10])"
   ]
  },
  {
   "cell_type": "code",
   "execution_count": null,
   "id": "7a26ab03",
   "metadata": {},
   "outputs": [],
   "source": []
  },
  {
   "cell_type": "code",
   "execution_count": null,
   "id": "97e7bcad",
   "metadata": {},
   "outputs": [],
   "source": []
  },
  {
   "cell_type": "code",
   "execution_count": null,
   "id": "6ee09532",
   "metadata": {},
   "outputs": [],
   "source": []
  },
  {
   "cell_type": "markdown",
   "id": "1600054e",
   "metadata": {},
   "source": [
    "## Exo 4\n",
    "\n",
    "#### Dans cet exercice, on vous demande d'écrire une fonction is_bool(i,j) retournant True si un des arguments est égal à 1 ou si leur somme est égal à 1 capable d'analyser un relevé de températures pour trouver quelle température se rapproche le plus de zéro. \n",
    "\n",
    "    \n",
    "  **(par exemple is_bool(1, 5) retourne True ).**\n",
    "  \n",
    "  **(par exemple is_bool(2, 3) retourne False ).**\n",
    "  \n",
    "  **(par exemple is_bool(-3, 4) retourne True ).**\n"
   ]
  },
  {
   "cell_type": "code",
   "execution_count": 1,
   "id": "dbef6191",
   "metadata": {},
   "outputs": [],
   "source": [
    "def is_bool(i, j):\n",
    "    if i == 1 or j ==1:\n",
    "        return True\n",
    "    elif i + j == 1:\n",
    "        return True\n",
    "    return False"
   ]
  },
  {
   "cell_type": "code",
   "execution_count": 3,
   "id": "d9fe8b61",
   "metadata": {},
   "outputs": [
    {
     "data": {
      "text/plain": [
       "True"
      ]
     },
     "execution_count": 3,
     "metadata": {},
     "output_type": "execute_result"
    }
   ],
   "source": [
    "is_bool(1, 5)\n",
    "\n"
   ]
  },
  {
   "cell_type": "code",
   "execution_count": 4,
   "id": "d5f5f4b3",
   "metadata": {},
   "outputs": [
    {
     "data": {
      "text/plain": [
       "False"
      ]
     },
     "execution_count": 4,
     "metadata": {},
     "output_type": "execute_result"
    }
   ],
   "source": [
    "is_bool(2, 3)"
   ]
  },
  {
   "cell_type": "code",
   "execution_count": 5,
   "id": "ac497114",
   "metadata": {},
   "outputs": [
    {
     "data": {
      "text/plain": [
       "True"
      ]
     },
     "execution_count": 5,
     "metadata": {},
     "output_type": "execute_result"
    }
   ],
   "source": [
    "is_bool(-3, 4)"
   ]
  },
  {
   "cell_type": "code",
   "execution_count": null,
   "id": "6117fa8d",
   "metadata": {},
   "outputs": [],
   "source": []
  },
  {
   "cell_type": "code",
   "execution_count": null,
   "id": "d8fb0ae0",
   "metadata": {},
   "outputs": [],
   "source": []
  },
  {
   "cell_type": "code",
   "execution_count": null,
   "id": "44e5ae9c",
   "metadata": {},
   "outputs": [],
   "source": []
  },
  {
   "cell_type": "markdown",
   "id": "1522d2dc",
   "metadata": {},
   "source": [
    "## Exo 5\n",
    "\n",
    "#### Dans cet exercice, on vous demande d'écrire une fonction solution,  telle que l'execution de\n",
    "\n",
    "#### print(solution('Hello you !'))  donne \n",
    "\n",
    "**Hello**\n",
    "\n",
    "**you**\n",
    "\n",
    "**!**\n",
    "\n"
   ]
  },
  {
   "cell_type": "code",
   "execution_count": 14,
   "id": "d885dbc9",
   "metadata": {},
   "outputs": [],
   "source": [
    "def solution(my_string):\n",
    "    my_list = my_string.split(\" \")\n",
    "    for i in my_list:\n",
    "        print(i)\n",
    "        \n",
    "    # return my_list\n",
    "        "
   ]
  },
  {
   "cell_type": "code",
   "execution_count": 15,
   "id": "81056d74",
   "metadata": {},
   "outputs": [
    {
     "name": "stdout",
     "output_type": "stream",
     "text": [
      "Hello\n",
      "you\n",
      "!\n"
     ]
    }
   ],
   "source": [
    "solution('Hello you !')"
   ]
  },
  {
   "cell_type": "code",
   "execution_count": 16,
   "id": "f738ff23",
   "metadata": {},
   "outputs": [
    {
     "name": "stdout",
     "output_type": "stream",
     "text": [
      "Hello\n",
      "you\n",
      "!\n",
      "None\n"
     ]
    }
   ],
   "source": [
    "print(solution('Hello you !'))"
   ]
  },
  {
   "cell_type": "code",
   "execution_count": null,
   "id": "27accbc8",
   "metadata": {},
   "outputs": [],
   "source": []
  },
  {
   "cell_type": "code",
   "execution_count": null,
   "id": "0053a93e",
   "metadata": {},
   "outputs": [],
   "source": []
  },
  {
   "cell_type": "markdown",
   "id": "4f90aece",
   "metadata": {},
   "source": [
    "## Exo 6\n",
    "\n",
    "#### Dans cet exercice, on vous demande d'écrire une fonction is_on_even_position(table, value),  afin qu'elle renvoie True si la valeur value est contenue dans le tableau table à un index pair et false sinon \n",
    "\n",
    "#### le parametre table n'est jamais None \n",
    "\n",
    "\n",
    "\n"
   ]
  },
  {
   "cell_type": "code",
   "execution_count": 22,
   "id": "40697473",
   "metadata": {},
   "outputs": [],
   "source": [
    "# t = [9, 8, 7, 6, 5, 4, 3, 2, 1, 0 ]"
   ]
  },
  {
   "cell_type": "code",
   "execution_count": 23,
   "id": "0e0afdd9",
   "metadata": {},
   "outputs": [],
   "source": [
    "def is_on_even_position(table, value):\n",
    "    if table.index(value) % 2 == 0: \n",
    "        return True \n",
    "    return False "
   ]
  },
  {
   "cell_type": "code",
   "execution_count": 24,
   "id": "cc0358db",
   "metadata": {},
   "outputs": [
    {
     "name": "stdout",
     "output_type": "stream",
     "text": [
      "False\n"
     ]
    }
   ],
   "source": [
    "t = [9, 8, 7, 6, 5, 4, 3, 2, 1, 0 ]\n",
    "\n",
    "print(is_on_even_position(t, 6))\n"
   ]
  },
  {
   "cell_type": "code",
   "execution_count": 25,
   "id": "d18b52d7",
   "metadata": {},
   "outputs": [
    {
     "name": "stdout",
     "output_type": "stream",
     "text": [
      "True\n"
     ]
    }
   ],
   "source": [
    "t = [9, 8, 7, 6, 5, 4, 3, 2, 1, 0 ]\n",
    "\n",
    "print(is_on_even_position(t, 3))\n"
   ]
  },
  {
   "cell_type": "code",
   "execution_count": null,
   "id": "1cb5fec0",
   "metadata": {},
   "outputs": [],
   "source": []
  },
  {
   "cell_type": "code",
   "execution_count": null,
   "id": "0988a747",
   "metadata": {},
   "outputs": [],
   "source": []
  },
  {
   "cell_type": "code",
   "execution_count": null,
   "id": "edd7b3aa",
   "metadata": {},
   "outputs": [],
   "source": []
  },
  {
   "cell_type": "markdown",
   "id": "103b5ef0",
   "metadata": {},
   "source": [
    "## Exo 7\n",
    "\n",
    "#### Vous organisez un tournoi d'échecs dans lequel les joueurs s'affronteront en duel. \n",
    "\n",
    "\n",
    "#### Pour former les duels on procède ainsi: d'abord on tire au hasard un joueur, ensuite on tire au hasard son opposant parmi les joueurs restants. Cette paire forme un des duels du tournoi. On procède de la même manière pour former toutes les paires.\n",
    "\n",
    "#### Dans cet exercice, on souhaiterait connaître le nombre de paires qu'il est possible d'obtenir sachant que l'ordre des opposants dans paire n'a pas d'importance.\n",
    "\n",
    "#### Par exemple, avec 4 joueurs nommés A, B, C et D, il est possible d'obtenir 6 paires différentes: AB, AC, AD, BC, BD, CD.\n",
    "\n",
    "#### Implémentez count pour retourner le nombre de paires possibles. Le\n",
    "\n",
    "#### paramètre correspond au nombre de joueurs.\n",
    "\n",
    "#### Essayez d'optimiser votre solution pour que, dans l'idéal, la durée de traitement soit la même quel que soit n\n",
    "\n",
    "\n",
    "**Données**\n",
    "\n",
    "**2 <= n <= 10000**\n",
    "\n",
    "\n",
    "\n"
   ]
  },
  {
   "cell_type": "code",
   "execution_count": 44,
   "id": "c9aaf95e",
   "metadata": {},
   "outputs": [],
   "source": [
    "\n",
    "# import sys\n",
    "\n",
    "# print(sys.getrecursionlimit())\n",
    "\n",
    "# sys.setrecursionlimit(15000)  # makes python crach\n",
    "\n",
    "# print(sys.getrecursionlimit())\n",
    "\n",
    "# **********************************************************************************************\n",
    "\n",
    "# Changing the Algo \n",
    "\n",
    "\n",
    "\"\"\" \n",
    "def factorial (x):\n",
    "    if x == 0 or x == 1:\n",
    "        return 1\n",
    "\n",
    "    elif x == 2: \n",
    "        return 2\n",
    "    \n",
    "    else:\n",
    "        return x * factorial(x - 1)\n",
    "\"\"\" \n",
    "\n",
    "def factorial(x):\n",
    "    factorial = 1\n",
    "\n",
    "    while x > 0:\n",
    "        factorial = factorial*x\n",
    "        x = x - 1\n",
    "\n",
    "    return factorial\n",
    "\n",
    "\n",
    "def count (n):\n",
    "    n = int(n)\n",
    "    \n",
    "    if n == 2:\n",
    "        return 1\n",
    "    \n",
    "    # return int ( factorial(n) / ( factorial(n-2) * factorial(2) ) ) \n",
    "    return int ( factorial(n) / ( factorial(n-2) * 2 ) )\n",
    "\n",
    "\n",
    "\n",
    "# print (count(4)) # 6 \n",
    "\n"
   ]
  },
  {
   "cell_type": "code",
   "execution_count": 45,
   "id": "57f02b82",
   "metadata": {},
   "outputs": [
    {
     "name": "stdout",
     "output_type": "stream",
     "text": [
      "6\n"
     ]
    }
   ],
   "source": [
    "# Code de test\n",
    "\n",
    "print (count(4)) # 6 "
   ]
  },
  {
   "cell_type": "code",
   "execution_count": 46,
   "id": "0388ee5c",
   "metadata": {},
   "outputs": [
    {
     "name": "stdout",
     "output_type": "stream",
     "text": [
      "28\n"
     ]
    }
   ],
   "source": [
    "# Code de test\n",
    "\n",
    "print(count(8)) # 28"
   ]
  },
  {
   "cell_type": "code",
   "execution_count": 47,
   "id": "57b984df",
   "metadata": {},
   "outputs": [
    {
     "name": "stdout",
     "output_type": "stream",
     "text": [
      "496\n"
     ]
    }
   ],
   "source": [
    "# Code de test\n",
    "\n",
    "print(count(32)) # 496"
   ]
  },
  {
   "cell_type": "code",
   "execution_count": 48,
   "id": "f0db58e8",
   "metadata": {},
   "outputs": [
    {
     "name": "stdout",
     "output_type": "stream",
     "text": [
      "49995000\n"
     ]
    }
   ],
   "source": [
    "print(count(10000)) # 49995000"
   ]
  },
  {
   "cell_type": "code",
   "execution_count": null,
   "id": "349c0bca",
   "metadata": {},
   "outputs": [],
   "source": []
  },
  {
   "cell_type": "code",
   "execution_count": null,
   "id": "60bdb882",
   "metadata": {},
   "outputs": [],
   "source": []
  },
  {
   "cell_type": "code",
   "execution_count": null,
   "id": "74ea8fc5",
   "metadata": {},
   "outputs": [],
   "source": []
  },
  {
   "cell_type": "markdown",
   "id": "3271aef2",
   "metadata": {},
   "source": [
    "## Exo 8\n",
    "\n",
    "#### Fonction pour inverser une liste  \n"
   ]
  },
  {
   "cell_type": "code",
   "execution_count": 52,
   "id": "77f48aca",
   "metadata": {},
   "outputs": [],
   "source": [
    "\n",
    "def reverse_list(my_list):\n",
    "    \n",
    "   return my_list[::-1]\n",
    "\n",
    "\n",
    "# my_list = [2, 5, 78, 0, 4]\n",
    "\n",
    "# the_list = my_list[::-1]\n",
    "\n",
    "# print(the_list)\n",
    "\n",
    " "
   ]
  },
  {
   "cell_type": "code",
   "execution_count": 53,
   "id": "e12d698a",
   "metadata": {},
   "outputs": [
    {
     "name": "stdout",
     "output_type": "stream",
     "text": [
      "[4, 0, 78, 5, 2]\n"
     ]
    }
   ],
   "source": [
    "print(reverse_list([2, 5, 78, 0, 4]))\n"
   ]
  },
  {
   "cell_type": "code",
   "execution_count": null,
   "id": "d9f3fd3a",
   "metadata": {},
   "outputs": [],
   "source": []
  },
  {
   "cell_type": "code",
   "execution_count": null,
   "id": "81bbdee5",
   "metadata": {},
   "outputs": [],
   "source": []
  },
  {
   "cell_type": "markdown",
   "id": "2640d178",
   "metadata": {},
   "source": [
    "## Exo 9 \n",
    "\n",
    "#### Heritage Class \n",
    "\n",
    "##### Class B hérite de Class A"
   ]
  },
  {
   "cell_type": "code",
   "execution_count": 55,
   "id": "592ceef0",
   "metadata": {},
   "outputs": [],
   "source": [
    "class A():\n",
    "    def test(self):\n",
    "        print(\"A\")\n",
    "        \n",
    "    def __init__(self):\n",
    "        self.test()\n",
    "\n",
    "        \n",
    "class B(A):\n",
    "    def __init__(self):\n",
    "        self.test()"
   ]
  },
  {
   "cell_type": "code",
   "execution_count": 59,
   "id": "b9d83c0d",
   "metadata": {},
   "outputs": [
    {
     "name": "stdout",
     "output_type": "stream",
     "text": [
      "A\n",
      "<__main__.B object at 0x000001FE3C6555E0>\n"
     ]
    }
   ],
   "source": [
    "print(B())"
   ]
  },
  {
   "cell_type": "code",
   "execution_count": 60,
   "id": "2176510a",
   "metadata": {},
   "outputs": [
    {
     "name": "stdout",
     "output_type": "stream",
     "text": [
      "A\n"
     ]
    }
   ],
   "source": [
    "b1 = B()"
   ]
  },
  {
   "cell_type": "code",
   "execution_count": null,
   "id": "c79bed66",
   "metadata": {},
   "outputs": [],
   "source": []
  },
  {
   "cell_type": "code",
   "execution_count": null,
   "id": "b9603b6c",
   "metadata": {},
   "outputs": [],
   "source": []
  },
  {
   "cell_type": "code",
   "execution_count": null,
   "id": "04063b6c",
   "metadata": {},
   "outputs": [],
   "source": []
  },
  {
   "cell_type": "markdown",
   "id": "9bfbe735",
   "metadata": {},
   "source": [
    "## Exo 10\n",
    "\n",
    "\n",
    "### Implémentez la fonction find smallest interval(numbers) qui retourne le plus petit intervalle positif entre deux éléments du tableau numbers.\n",
    "\n",
    "\n",
    "#### Par exemple, si on considère le tableau [1, 6, 4, 8, 2], le plus petit intervalle est 1 (différence entre 2 et 1)\n",
    "\n",
    "\n",
    "### Contraintes:\n",
    "\n",
    " - numbers contient au moins deux éléments et au maximum 100 000 éléments.\n",
    "\n",
    " - La solution qui privilégie la vitesse d'exécution pour les tableaux de grande taille obtiendra le plus de points.\n",
    " \n",
    " - La différence entre deux éléments ne dépassera jamais la capacité d'un entier pour votre langage.\n",
    "\n"
   ]
  },
  {
   "cell_type": "code",
   "execution_count": 96,
   "id": "b6a3312f",
   "metadata": {},
   "outputs": [
    {
     "name": "stdout",
     "output_type": "stream",
     "text": [
      "1 6 4 8 2\n",
      "1\n"
     ]
    }
   ],
   "source": [
    "\n",
    "import sys\n",
    "\n",
    "import math\n",
    "\n",
    "from contextlib import redirect_stdout\n",
    "\n",
    "# print(sys.maxsize)\n",
    "\n",
    "\n",
    "def find_smallest_interval(numbers):\n",
    "    \n",
    "    numbers.sort()\n",
    "    \n",
    "    diff = sys.maxsize\n",
    "    # diff = max(numbers)\n",
    "    \n",
    "    for i in range(0, len(numbers) - 1):\n",
    "        if numbers[i+1] - numbers[i] < diff:\n",
    "            diff = numbers[i+1] - numbers[i]\n",
    "    \n",
    "    return diff\n",
    "\n",
    "\n",
    "def main():\n",
    "    numbers = [int(i) for i in input().split()]\n",
    "    \n",
    "    if len(numbers) < 2 or len(numbers) > 100000:\n",
    "        return \"La liste doit avoir au moins 2 éléments et ne pas dépasser 100000! \"\n",
    "    \n",
    "    with redirect_stdout(sys.stderr):\n",
    "        res = find_smallest_interval(numbers)\n",
    "        \n",
    "    print(res)\n",
    "    \n",
    "    \n",
    "if __name__ == \"__main__\":\n",
    "    main()\n",
    "    \n",
    "    "
   ]
  },
  {
   "cell_type": "code",
   "execution_count": null,
   "id": "66efeeea",
   "metadata": {},
   "outputs": [],
   "source": []
  },
  {
   "cell_type": "code",
   "execution_count": 97,
   "id": "21526640",
   "metadata": {},
   "outputs": [],
   "source": [
    "# [1, 5, 3, 19, 18, 25]  # 1\n",
    "\n",
    "# [80, 1, 4, 25, 12, 60, 78, 70]  # 2"
   ]
  },
  {
   "cell_type": "code",
   "execution_count": 98,
   "id": "77df66ce",
   "metadata": {},
   "outputs": [],
   "source": [
    "def find_smallest_interval(numbers):\n",
    "    \n",
    "    numbers.sort()\n",
    "    \n",
    "    diff = max(numbers)\n",
    "    \n",
    "    for i in range(0, len(numbers) - 1):\n",
    "        if numbers[i+1] - numbers[i] < diff:\n",
    "            diff = numbers[i+1] - numbers[i]\n",
    "    \n",
    "    return diff\n"
   ]
  },
  {
   "cell_type": "code",
   "execution_count": 99,
   "id": "8e8d6bef",
   "metadata": {},
   "outputs": [
    {
     "data": {
      "text/plain": [
       "1"
      ]
     },
     "execution_count": 99,
     "metadata": {},
     "output_type": "execute_result"
    }
   ],
   "source": [
    "find_smallest_interval([1, 6, 4, 8, 2])"
   ]
  },
  {
   "cell_type": "code",
   "execution_count": 100,
   "id": "284d91fc",
   "metadata": {},
   "outputs": [
    {
     "data": {
      "text/plain": [
       "1"
      ]
     },
     "execution_count": 100,
     "metadata": {},
     "output_type": "execute_result"
    }
   ],
   "source": [
    "find_smallest_interval([1, 5, 3, 19, 18, 25])"
   ]
  },
  {
   "cell_type": "code",
   "execution_count": 101,
   "id": "2f860f75",
   "metadata": {},
   "outputs": [
    {
     "data": {
      "text/plain": [
       "2"
      ]
     },
     "execution_count": 101,
     "metadata": {},
     "output_type": "execute_result"
    }
   ],
   "source": [
    "find_smallest_interval([80, 1, 4, 25, 12, 60, 78, 70])"
   ]
  },
  {
   "cell_type": "code",
   "execution_count": null,
   "id": "e6fa6305",
   "metadata": {},
   "outputs": [],
   "source": []
  },
  {
   "cell_type": "code",
   "execution_count": null,
   "id": "e143bafc",
   "metadata": {},
   "outputs": [],
   "source": []
  },
  {
   "cell_type": "code",
   "execution_count": null,
   "id": "24328113",
   "metadata": {},
   "outputs": [],
   "source": []
  },
  {
   "cell_type": "markdown",
   "id": "ea3db1ff",
   "metadata": {},
   "source": [
    "## Exo 10\n",
    "\n",
    "\n",
    "### On appelle \"duodigit\" un nombre entier dont la représentation décimale n'utilise pas plus de deux chiffres différents. Par exemple 12, 110, -33333 sont des duodigits, mais 102 ne l'est pas\n",
    "\n",
    "\n",
    "#### Implémentez la fonction is duo_digit (number) qui renvoie un string\n",
    "\n",
    " - y  si number est un duodigt\n",
    "\n",
    " - n  dans le cas contraire\n"
   ]
  },
  {
   "cell_type": "code",
   "execution_count": 106,
   "id": "3d9bdca2",
   "metadata": {},
   "outputs": [
    {
     "name": "stdout",
     "output_type": "stream",
     "text": [
      "-2021\n",
      "y\n"
     ]
    }
   ],
   "source": [
    "\n",
    "import sys\n",
    "\n",
    "import math\n",
    "\n",
    "from contextlib import redirect_stdout\n",
    "\n",
    "\n",
    "def is_duo_digit(number):\n",
    "    my_string = str(abs(number))\n",
    "    \n",
    "    if len(my_string) == 1 or len(my_string) == 2:\n",
    "        return 'y'\n",
    "\n",
    "    count = 0\n",
    "\n",
    "    for i in range(0, len(my_string) - 1):\n",
    "        if my_string[i] != my_string[i+1]:\n",
    "            count += 1\n",
    "            \n",
    "            if count > 2:\n",
    "                return 'n'\n",
    "\n",
    "    return 'y'\n",
    "\n",
    "\n",
    "def main():\n",
    "    number = int(input())\n",
    "    \n",
    "    with redirect_stdout(sys.stderr):\n",
    "        result = is_duo_digit(number)\n",
    "        \n",
    "    print(result)\n",
    "    \n",
    "    \n",
    "if __name__ == \"__main__\":\n",
    "    main()\n",
    "    \n"
   ]
  },
  {
   "cell_type": "code",
   "execution_count": null,
   "id": "7517a4f6",
   "metadata": {},
   "outputs": [],
   "source": [
    "# 1\n",
    "\n",
    "# 12\n",
    "\n",
    "# 2020\n",
    "\n",
    "# -2021\n",
    "\n",
    "# 9\n",
    "\n",
    "# 33333\n",
    "\n",
    "# 567 \n"
   ]
  },
  {
   "cell_type": "code",
   "execution_count": 159,
   "id": "c05832df",
   "metadata": {},
   "outputs": [],
   "source": [
    "def is_duo(my_string):\n",
    "    \n",
    "    if len(my_string) == 1 or len(my_string) == 2:\n",
    "        return 'y'\n",
    "\n",
    "    my_list = []\n",
    "    for i in my_string:\n",
    "        if i in my_list:\n",
    "            continue\n",
    "        else:\n",
    "            my_list.append(i) \n",
    "    \n",
    "    \n",
    "    if len(my_list) > 2 : return 'n'\n",
    "    else: return 'y'\n",
    "    \n",
    "    \"\"\" \n",
    "    \n",
    "    count = 0\n",
    "\n",
    "    for i in range(0, len(my_string) - 1):\n",
    "        # if my_string[i] != my_string[i+1]:\n",
    "        # if my_string[0] != my_string[i+1] and my_string.count(my_string[0]) > 1:\n",
    "        if my_string[0] != my_string[i+1]: # and my_string.count(my_string[0]) > 1:\n",
    "            count += 1\n",
    "            \n",
    "            if count > 2:\n",
    "                return 'n'\n",
    "\n",
    "    return 'y'\n",
    "    \n",
    "    \"\"\" \n"
   ]
  },
  {
   "cell_type": "code",
   "execution_count": 160,
   "id": "182b6459",
   "metadata": {},
   "outputs": [
    {
     "name": "stdout",
     "output_type": "stream",
     "text": [
      "y\n"
     ]
    }
   ],
   "source": [
    "print(is_duo('1'))"
   ]
  },
  {
   "cell_type": "code",
   "execution_count": 161,
   "id": "5ad6d4c7",
   "metadata": {},
   "outputs": [
    {
     "name": "stdout",
     "output_type": "stream",
     "text": [
      "y\n"
     ]
    }
   ],
   "source": [
    "print(is_duo('12'))"
   ]
  },
  {
   "cell_type": "code",
   "execution_count": 162,
   "id": "b2ad71ee",
   "metadata": {},
   "outputs": [
    {
     "name": "stdout",
     "output_type": "stream",
     "text": [
      "y\n"
     ]
    }
   ],
   "source": [
    "print(is_duo('2020'))"
   ]
  },
  {
   "cell_type": "code",
   "execution_count": 163,
   "id": "63b906d8",
   "metadata": {},
   "outputs": [
    {
     "name": "stdout",
     "output_type": "stream",
     "text": [
      "n\n"
     ]
    }
   ],
   "source": [
    "print(is_duo('2021'))"
   ]
  },
  {
   "cell_type": "code",
   "execution_count": 164,
   "id": "79d1a904",
   "metadata": {},
   "outputs": [
    {
     "name": "stdout",
     "output_type": "stream",
     "text": [
      "y\n"
     ]
    }
   ],
   "source": [
    "print(is_duo('9'))"
   ]
  },
  {
   "cell_type": "code",
   "execution_count": 165,
   "id": "41645181",
   "metadata": {},
   "outputs": [
    {
     "name": "stdout",
     "output_type": "stream",
     "text": [
      "y\n"
     ]
    }
   ],
   "source": [
    "print(is_duo('33333'))"
   ]
  },
  {
   "cell_type": "code",
   "execution_count": 166,
   "id": "cd0fe4ee",
   "metadata": {},
   "outputs": [
    {
     "name": "stdout",
     "output_type": "stream",
     "text": [
      "n\n"
     ]
    }
   ],
   "source": [
    "print(is_duo('567'))"
   ]
  },
  {
   "cell_type": "code",
   "execution_count": null,
   "id": "fa426240",
   "metadata": {},
   "outputs": [],
   "source": []
  }
 ],
 "metadata": {
  "kernelspec": {
   "display_name": "Python 3 (ipykernel)",
   "language": "python",
   "name": "python3"
  },
  "language_info": {
   "codemirror_mode": {
    "name": "ipython",
    "version": 3
   },
   "file_extension": ".py",
   "mimetype": "text/x-python",
   "name": "python",
   "nbconvert_exporter": "python",
   "pygments_lexer": "ipython3",
   "version": "3.8.11"
  }
 },
 "nbformat": 4,
 "nbformat_minor": 5
}
