{
 "cells": [
  {
   "cell_type": "code",
   "execution_count": 13,
   "id": "32e14e17",
   "metadata": {},
   "outputs": [],
   "source": [
    "def json_dumps(x):\n",
    "    if type(x) == int:\n",
    "        return str(x)\n",
    "    "
   ]
  },
  {
   "cell_type": "code",
   "execution_count": 14,
   "id": "4e22f091",
   "metadata": {},
   "outputs": [
    {
     "name": "stdout",
     "output_type": "stream",
     "text": [
      "1\n"
     ]
    }
   ],
   "source": [
    "print(json_dumps(1))\n",
    "\n",
    "assert json_dumps(1) == '1'"
   ]
  },
  {
   "cell_type": "code",
   "execution_count": 15,
   "id": "f4abd6dd",
   "metadata": {},
   "outputs": [],
   "source": [
    "def json_dumps(x):\n",
    "    if type(x) == int or type(x) == float: \n",
    "        return str(x)\n",
    "    "
   ]
  },
  {
   "cell_type": "code",
   "execution_count": 16,
   "id": "099a7612",
   "metadata": {},
   "outputs": [
    {
     "name": "stdout",
     "output_type": "stream",
     "text": [
      "1.2\n"
     ]
    }
   ],
   "source": [
    "print(json_dumps(1.2))\n",
    "\n",
    "assert json_dumps(1.2) == '1.2'"
   ]
  },
  {
   "cell_type": "code",
   "execution_count": 21,
   "id": "10582ba4",
   "metadata": {},
   "outputs": [],
   "source": [
    "def json_dumps(x):\n",
    "    if type(x) == int or type(x) == float: \n",
    "        return str(x)\n",
    "    elif type(x) == str: \n",
    "        return '\\\"' + str(x) + '\\\"' \n",
    "    "
   ]
  },
  {
   "cell_type": "code",
   "execution_count": 22,
   "id": "c133ce06",
   "metadata": {},
   "outputs": [
    {
     "name": "stdout",
     "output_type": "stream",
     "text": [
      "\"foo\"\n"
     ]
    }
   ],
   "source": [
    "print(json_dumps(\"foo\"))\n",
    "\n",
    "assert json_dumps(\"foo\") == '\"foo\"'"
   ]
  },
  {
   "cell_type": "code",
   "execution_count": 23,
   "id": "a94aee1a",
   "metadata": {},
   "outputs": [],
   "source": [
    "def json_dumps(x):\n",
    "    if type(x) == int or type(x) == float: \n",
    "        return str(x)\n",
    "    elif type(x) == str: \n",
    "        return '\\\"' + str(x) + '\\\"' \n",
    "    "
   ]
  },
  {
   "cell_type": "code",
   "execution_count": 24,
   "id": "97bee15d",
   "metadata": {},
   "outputs": [
    {
     "name": "stdout",
     "output_type": "stream",
     "text": [
      "\"foo\"\n"
     ]
    }
   ],
   "source": [
    "print(json_dumps(\"foo\"))\n",
    "\n",
    "assert json_dumps(\"foo\") == '\"foo\"'\n",
    "\n",
    "assert json_dumps('foo') == '\"foo\"'"
   ]
  },
  {
   "cell_type": "code",
   "execution_count": 41,
   "id": "2b237269",
   "metadata": {},
   "outputs": [],
   "source": [
    "def json_dumps(x):\n",
    "    if type(x) == int or type(x) == float: \n",
    "        return str(x)\n",
    "    \n",
    "    elif type(x) == str:         \n",
    "        return '\\\"' + str(x) + '\\\"' \n",
    "    \n",
    "    elif type(x) == list:         \n",
    "        y = \"[\"\n",
    "        for i in x:\n",
    "            if i == x[-1]:\n",
    "                if i == None or i == \"None\":\n",
    "                    y += \"null\"\n",
    "                else:\n",
    "                    y += str(i).lower() \n",
    "            else:\n",
    "                if i == None or i == \"None\":\n",
    "                    y += \"null\" + \",\"\n",
    "                else:\n",
    "                    y += str(i).lower() + \",\"\n",
    "        y += \"]\"\n",
    "        return y\n",
    "    "
   ]
  },
  {
   "cell_type": "code",
   "execution_count": 42,
   "id": "23e7f4b2",
   "metadata": {},
   "outputs": [
    {
     "name": "stdout",
     "output_type": "stream",
     "text": [
      "[null,true,false]\n"
     ]
    }
   ],
   "source": [
    "print(json_dumps([None, True, False]))\n",
    "\n",
    "assert json_dumps([None, True, False]) == '[null,true,false]'"
   ]
  },
  {
   "cell_type": "code",
   "execution_count": 45,
   "id": "b3724150",
   "metadata": {},
   "outputs": [],
   "source": [
    "def json_dumps(x):\n",
    "    if type(x) == int or type(x) == float: \n",
    "        return str(x)\n",
    "    \n",
    "    elif type(x) == str:         \n",
    "        return '\\\"' + str(x) + '\\\"' \n",
    "    \n",
    "    elif type(x) == list:         \n",
    "        y = \"[\"\n",
    "        for i in x:\n",
    "            if i == x[-1]:\n",
    "                if i == None or i == \"None\":\n",
    "                    y += \"null\"\n",
    "                else:\n",
    "                    y += str(i).lower() \n",
    "            else:\n",
    "                if i == None or i == \"None\":\n",
    "                    y += \"null\" + \",\"\n",
    "                else:\n",
    "                    y += str(i).lower() + \",\"\n",
    "        y += \"]\"\n",
    "        return y\n",
    "    \n",
    "    elif type(x) == dict:         \n",
    "        y = \"{\"\n",
    "        for a, b in x.items():\n",
    "            y += \"\\\"\" + str(a) + \"\\\":\\\"\" + str(b) + \"\\\"\" \n",
    "        y += \"}\"\n",
    "        \n",
    "        return y\n",
    "    "
   ]
  },
  {
   "cell_type": "code",
   "execution_count": 46,
   "id": "9ea9502b",
   "metadata": {},
   "outputs": [
    {
     "name": "stdout",
     "output_type": "stream",
     "text": [
      "{\"foo\":\"bar\"}\n"
     ]
    }
   ],
   "source": [
    "print(json_dumps({\"foo\": \"bar\"}))\n",
    "\n",
    "assert json_dumps({\"foo\": \"bar\"}) == '{\"foo\":\"bar\"}'"
   ]
  },
  {
   "cell_type": "code",
   "execution_count": 49,
   "id": "50c2428a",
   "metadata": {},
   "outputs": [],
   "source": [
    "def json_dumps(x):\n",
    "    if type(x) == int or type(x) == float: \n",
    "        return str(x)\n",
    "    \n",
    "    elif type(x) == str:         \n",
    "        return '\\\"' + str(x) + '\\\"' \n",
    "    \n",
    "    elif type(x) == list:         \n",
    "        y = \"[\"\n",
    "        for i in x:\n",
    "            if i == x[-1]:\n",
    "                if i == None or i == \"None\":\n",
    "                    y += \"null\"\n",
    "                else:\n",
    "                    y += str(i).lower() \n",
    "            else:\n",
    "                if i == None or i == \"None\":\n",
    "                    y += \"null\" + \",\"\n",
    "                else:\n",
    "                    y += str(i).lower() + \",\"\n",
    "        y += \"]\"\n",
    "        return y\n",
    "    \n",
    "    elif type(x) == dict:         \n",
    "        y = \"{\"\n",
    "        for a, b in x.items():\n",
    "            if type(b) == list:\n",
    "                y += \"\\\"\" + str(a) + \"\\\":\"\n",
    "                for i in b:\n",
    "                    y += \"[\\\"\" + str(i) + \"\\\"]\" \n",
    "            else:\n",
    "                y += \"\\\"\" + str(a) + \"\\\":\\\"\" + str(b) + \"\\\"\" \n",
    "        y += \"}\"\n",
    "        \n",
    "        return y\n",
    "    "
   ]
  },
  {
   "cell_type": "code",
   "execution_count": 51,
   "id": "559e2ef3",
   "metadata": {},
   "outputs": [
    {
     "name": "stdout",
     "output_type": "stream",
     "text": [
      "{\"foo\":[\"bar\"]}\n"
     ]
    }
   ],
   "source": [
    "print(json_dumps({\"foo\": [\"bar\"]}))\n",
    "\n",
    "assert json_dumps({\"foo\": [\"bar\"]}) == '{\"foo\":[\"bar\"]}'"
   ]
  },
  {
   "cell_type": "code",
   "execution_count": 54,
   "id": "ca4991a4",
   "metadata": {},
   "outputs": [],
   "source": [
    "def json_dumps(x):\n",
    "    if type(x) == int or type(x) == float: \n",
    "        return str(x)\n",
    "    \n",
    "    elif type(x) == str:         \n",
    "        return '\\\"' + str(x) + '\\\"' \n",
    "    \n",
    "    elif type(x) == list:         \n",
    "        y = \"[\"\n",
    "        for i in x:\n",
    "            if i == x[-1]:\n",
    "                if i == None or i == \"None\":\n",
    "                    y += \"null\"\n",
    "                else:\n",
    "                    y += str(i).lower() \n",
    "            else:\n",
    "                if i == None or i == \"None\":\n",
    "                    y += \"null\" + \",\"\n",
    "                else:\n",
    "                    y += str(i).lower() + \",\"\n",
    "        y += \"]\"\n",
    "        return y\n",
    "    \n",
    "    elif type(x) == dict:         \n",
    "        y = \"{\"\n",
    "        for a, b in x.items():\n",
    "            if type(b) == list:\n",
    "                y += \"\\\"\" + str(a) + \"\\\":\"\n",
    "                for i in b:\n",
    "                    y += \"[\\\"\" + str(i) + \"\\\"]\" \n",
    "            else:\n",
    "                y += \"\\\"\" + str(a) + \"\\\":\\\"\" + str(b) + \"\\\"\" \n",
    "        y += \"}\"\n",
    "        \n",
    "        return y\n",
    "    "
   ]
  },
  {
   "cell_type": "code",
   "execution_count": 55,
   "id": "425e6971",
   "metadata": {},
   "outputs": [
    {
     "name": "stdout",
     "output_type": "stream",
     "text": [
      "1\n",
      "1.2\n",
      "\"foo\"\n",
      "\"foo\"\n",
      "[null,true,false]\n",
      "{\"foo\":\"bar\"}\n",
      "{\"foo\":[\"bar\"]}\n"
     ]
    }
   ],
   "source": [
    "print(json_dumps(1))\n",
    "\n",
    "assert json_dumps(1) == '1'\n",
    "\n",
    "\n",
    "\n",
    "print(json_dumps(1.2))\n",
    "\n",
    "assert json_dumps(1.2) == '1.2'\n",
    "\n",
    "\n",
    "\n",
    "print(json_dumps(\"foo\"))\n",
    "\n",
    "assert json_dumps(\"foo\") == '\"foo\"'\n",
    "\n",
    "\n",
    "\n",
    "print(json_dumps(\"foo\"))\n",
    "\n",
    "assert json_dumps(\"foo\") == '\"foo\"'\n",
    "\n",
    "assert json_dumps('foo') == '\"foo\"'\n",
    "\n",
    "\n",
    "\n",
    "print(json_dumps([None, True, False]))\n",
    "\n",
    "assert json_dumps([None, True, False]) == '[null,true,false]'\n",
    "\n",
    "\n",
    "\n",
    "print(json_dumps({\"foo\": \"bar\"}))\n",
    "\n",
    "assert json_dumps({\"foo\": \"bar\"}) == '{\"foo\":\"bar\"}'\n",
    "\n",
    "\n",
    "\n",
    "print(json_dumps({\"foo\": [\"bar\"]}))\n",
    "\n",
    "assert json_dumps({\"foo\": [\"bar\"]}) == '{\"foo\":[\"bar\"]}'"
   ]
  },
  {
   "cell_type": "code",
   "execution_count": null,
   "id": "85b79947",
   "metadata": {},
   "outputs": [],
   "source": []
  },
  {
   "cell_type": "code",
   "execution_count": null,
   "id": "0bcee894",
   "metadata": {},
   "outputs": [],
   "source": []
  },
  {
   "cell_type": "code",
   "execution_count": null,
   "id": "c201ce63",
   "metadata": {},
   "outputs": [],
   "source": []
  },
  {
   "cell_type": "code",
   "execution_count": 73,
   "id": "c21c1bfb",
   "metadata": {},
   "outputs": [
    {
     "data": {
      "text/plain": [
       "'\\n# do not work\\ndef cut3(x):\\n    y = \"\" \\n    for i in x:\\n        y += str(i)\\n    wrap(y, 2)\\n    \\n    print(list(y))\\n'"
      ]
     },
     "execution_count": 73,
     "metadata": {},
     "output_type": "execute_result"
    }
   ],
   "source": [
    "\n",
    "\"\"\"\n",
    "# do not work\n",
    "def cut(x):\n",
    "    y = \"\" \n",
    "    for i in x:\n",
    "        y += str(i)\n",
    "        \n",
    "    [y[i:i+2] for i in range(0, len(y), 2)]\n",
    "    \n",
    "    print(list(y))\n",
    "\"\"\" \n",
    "    \n",
    "    \n",
    "def cut1(x):\n",
    "    y = \"\" \n",
    "    for i in x:\n",
    "        y += str(i)\n",
    "        \n",
    "    o = []\n",
    "    while y:\n",
    "        o.append(y[:2])\n",
    "        y = y[2:]\n",
    "    \n",
    "    print(o)\n",
    "    \n",
    "    \n",
    "    \n",
    "import re\n",
    "\n",
    "\n",
    "\"\"\"\n",
    "# do not work\n",
    "def cut2(x):\n",
    "    y = \"\" \n",
    "    for i in x:\n",
    "        y += str(i)\n",
    "    re.findall('.{1,2}', y)\n",
    "    \n",
    "    print(list(y))\n",
    "\"\"\" \n",
    "\n",
    "    \n",
    "    \n",
    "from textwrap import wrap\n",
    "\n",
    "\n",
    "\"\"\"\n",
    "# do not work\n",
    "def cut3(x):\n",
    "    y = \"\" \n",
    "    for i in x:\n",
    "        y += str(i)\n",
    "    wrap(y, 2)\n",
    "    \n",
    "    print(list(y))\n",
    "\"\"\" \n",
    "    "
   ]
  },
  {
   "cell_type": "code",
   "execution_count": 74,
   "id": "ca9759f2",
   "metadata": {},
   "outputs": [
    {
     "name": "stdout",
     "output_type": "stream",
     "text": [
      "\n",
      "['12', '34', 'ds', 'fr', '56', '78', '90', '12', '3']\n",
      "\n"
     ]
    }
   ],
   "source": [
    "# cut([123, 4, \"dsfr\", 567, \"8\", 90, \"123\"])\n",
    "\n",
    "print()\n",
    "\n",
    "cut1([123, 4, \"dsfr\", 567, \"8\", 90, \"123\"])\n",
    "\n",
    "print()\n",
    "\n",
    "# cut2([123, 4, \"dsfr\", 567, \"8\", 90, \"123\"])\n",
    "\n",
    "# print()\n",
    "\n",
    "# cut3([123, 4, \"dsfr\", 567, \"8\", 90, \"123\"])"
   ]
  },
  {
   "cell_type": "code",
   "execution_count": null,
   "id": "b4250144",
   "metadata": {},
   "outputs": [],
   "source": []
  },
  {
   "cell_type": "code",
   "execution_count": null,
   "id": "2cda572d",
   "metadata": {},
   "outputs": [],
   "source": []
  },
  {
   "cell_type": "code",
   "execution_count": null,
   "id": "21cf710e",
   "metadata": {},
   "outputs": [],
   "source": []
  },
  {
   "cell_type": "code",
   "execution_count": null,
   "id": "99eb8ba5",
   "metadata": {},
   "outputs": [],
   "source": []
  },
  {
   "cell_type": "markdown",
   "id": "06f86637",
   "metadata": {},
   "source": [
    "## Exo 3\n",
    "\n",
    "#### Dans cet exercice, on vous demande d'écrire un programme capable d'analyser un relevé de températures pour trouver quelle température se rapproche le plus de zéro. \n",
    "\n",
    "### Implémentez la fonction compute_closest_to_zero(ts) qui prend un tableau de températures ts en paramètre et renvoie la température la plus proche de zéro.\n",
    "\n",
    "### Contraintes :\n",
    "    - Si le tableau est vide, la fonction doit renvoyer 0 \n",
    "    - 0 ≤ taille ts ≤ 10000 \n",
    "    - Si deux températures sont aussi proches de zéro, la fonction devra renvoyer la température positive \n",
    "**(par exemple si les températures sont -5 et 5, renvoyez 5).\n"
   ]
  },
  {
   "cell_type": "code",
   "execution_count": 77,
   "id": "b6b2f1a6",
   "metadata": {},
   "outputs": [
    {
     "name": "stdout",
     "output_type": "stream",
     "text": [
      "12\n",
      "2\n",
      "2\n"
     ]
    }
   ],
   "source": [
    "import sys\n",
    "import math\n",
    "from contextlib import redirect_stdout\n",
    "\n",
    "\n",
    "def compute_closest_to_zero(ts):\n",
    "    # Write your code here\n",
    "    # To debug: print(\"Debug messages...\", file=sys.stderr, flush=True)\n",
    "    if len(ts) == 0:\n",
    "        return 0\n",
    "    else:\n",
    "        \"\"\"\n",
    "        if 0 in ts:\n",
    "            ts.remove(0)\n",
    "        for i in ts:\n",
    "            if min(i <= min(ts):\n",
    "                if abs(i) in ts:\n",
    "                    return abs(i)\n",
    "                else:\n",
    "                    return i\n",
    "        \"\"\"\n",
    "        return min((abs(x), x) for x in ts)[1]\n",
    "\n",
    "\n",
    "# Ignore and do not change the code below\n",
    "def main():\n",
    "    # pylint: disable = C, W\n",
    "    n = int(input())\n",
    "    ts = [int(i) for i in input().split()]\n",
    "    with redirect_stdout(sys.stderr):\n",
    "        solution = compute_closest_to_zero(ts)\n",
    "    print(solution)\n",
    "\n",
    "\n",
    "if __name__ == \"__main__\":\n",
    "    main()\n"
   ]
  },
  {
   "cell_type": "code",
   "execution_count": null,
   "id": "81a2dfec",
   "metadata": {},
   "outputs": [],
   "source": []
  },
  {
   "cell_type": "code",
   "execution_count": null,
   "id": "af64ea26",
   "metadata": {},
   "outputs": [],
   "source": [
    "import sys\n",
    "import math\n",
    "from contextlib import redirect_stdout\n",
    "\n",
    "\n",
    "def compute_closest_to_zero(ts):\n",
    "    # Write your code here\n",
    "    # To debug: print(\"Debug messages...\", file=sys.stderr, flush=True)\n",
    "    if len(ts) == 0:\n",
    "        return 0\n",
    "    else:\n",
    "        \"\"\"\n",
    "        if 0 in ts:\n",
    "            ts.remove(0)\n",
    "        for i in ts:\n",
    "            if min(i <= min(ts):\n",
    "                if abs(i) in ts:\n",
    "                    return abs(i)\n",
    "                else:\n",
    "                    return i\n",
    "        \"\"\"\n",
    "\n",
    "        # return min((abs(x), x) for x in ts)[1] # works\n",
    "        # return min(ts, key=abs) # works\n",
    "\n",
    "        \"\"\"\n",
    "        if min((abs(x), x) for x in ts)[1] < 0:\n",
    "            if abs(return min((abs(x), x) for x in ts)[1]) in ts:\n",
    "                return abs(return min((abs(x), x) for x in ts)[1])\n",
    "            else:\n",
    "                return min((abs(x), x) for x in ts)[1]\n",
    "        \"\"\"\n",
    "\n",
    "\n",
    "# Ignore and do not change the code below\n",
    "def main():\n",
    "    # pylint: disable = C, W\n",
    "    n = int(input())\n",
    "    ts = [int(i) for i in input().split()]\n",
    "    with redirect_stdout(sys.stderr):\n",
    "        solution = compute_closest_to_zero(ts)\n",
    "    print(solution)\n",
    "\n",
    "\n",
    "if __name__ == \"__main__\":\n",
    "    main()\n"
   ]
  },
  {
   "cell_type": "code",
   "execution_count": null,
   "id": "0276913b",
   "metadata": {},
   "outputs": [],
   "source": [
    "import sys\n",
    "import math\n",
    "from contextlib import redirect_stdout\n",
    "\n",
    "\n",
    "def compute_closest_to_zero(ts):\n",
    "    # Write your code here\n",
    "    # To debug: print(\"Debug messages...\", file=sys.stderr, flush=True)\n",
    "    if len(ts) == 0:\n",
    "        return 0\n",
    "    else:\n",
    "        if 0 in ts:\n",
    "            ts.remove(0)\n",
    "        for i in ts:\n",
    "            if i <= min(ts):\n",
    "                if abs(i) in ts:\n",
    "                    return abs(i)\n",
    "                else:\n",
    "                    return i\n",
    "\n",
    "        # return min((abs(x), x) for x in ts)[1] # works\n",
    "        # return min(ts, key=abs) # works\n",
    "\n",
    "        \"\"\"\n",
    "        if min((abs(x), x) for x in ts)[1] < 0:\n",
    "            if abs(return min((abs(x), x) for x in ts)[1]) in ts:\n",
    "                return abs(return min((abs(x), x) for x in ts)[1])\n",
    "            else:\n",
    "                return min((abs(x), x) for x in ts)[1]\n",
    "        \"\"\"\n",
    "\n",
    "\n",
    "# Ignore and do not change the code below\n",
    "def main():\n",
    "    # pylint: disable = C, W\n",
    "    n = int(input())\n",
    "    ts = [int(i) for i in input().split()]\n",
    "    with redirect_stdout(sys.stderr):\n",
    "        solution = compute_closest_to_zero(ts)\n",
    "    print(solution)\n",
    "\n",
    "\n",
    "if __name__ == \"__main__\":\n",
    "    main()\n"
   ]
  },
  {
   "cell_type": "code",
   "execution_count": 84,
   "id": "02c47c3e",
   "metadata": {},
   "outputs": [],
   "source": [
    "import sys\n",
    "import math\n",
    "from contextlib import redirect_stdout\n",
    "\n",
    "\n",
    "def compute_closest_to_zero(ts):\n",
    "    # Write your code here\n",
    "    # To debug: print(\"Debug messages...\", file=sys.stderr, flush=True)\n",
    "    if len(ts) == 0:\n",
    "        return 0\n",
    "    else:\n",
    "        \"\"\"\n",
    "        if 0 in ts:\n",
    "            ts.remove(0)\n",
    "        for i in ts:\n",
    "            if i <= min(ts):\n",
    "                if abs(i) in ts:\n",
    "                    return abs(i)\n",
    "                else:\n",
    "                    return i\n",
    "        \"\"\"\n",
    "\n",
    "        return min((abs(x), x) for x in ts)[1] # works\n",
    "        # return min(ts, key=abs) # works\n",
    "\n",
    "        \"\"\"\n",
    "        if min((abs(x), x) for x in ts)[1] < 0:\n",
    "            if abs(return min((abs(x), x) for x in ts)[1]) in ts:\n",
    "                return abs(return min((abs(x), x) for x in ts)[1])\n",
    "            else:\n",
    "                return min((abs(x), x) for x in ts)[1]\n",
    "        \"\"\"\n",
    "\n"
   ]
  },
  {
   "cell_type": "code",
   "execution_count": 129,
   "id": "0a580d12",
   "metadata": {},
   "outputs": [],
   "source": [
    "import sys\n",
    "import math\n",
    "from contextlib import redirect_stdout\n",
    "\n",
    "\n",
    "def compute_closest_to_zero(ts):\n",
    "    # Write your code here\n",
    "    # To debug: print(\"Debug messages...\", file=sys.stderr, flush=True)\n",
    "    if len(ts) == 0:\n",
    "        return 0\n",
    "    else:\n",
    "        \"\"\"\n",
    "        if 0 in ts:\n",
    "            ts.remove(0)\n",
    "        for i in ts:\n",
    "            if i <= min(ts):\n",
    "                if abs(i) in ts:\n",
    "                    return abs(i)\n",
    "                else:\n",
    "                    return i\n",
    "        \"\"\"\n",
    "\n",
    "        return min((abs(x), x) for x in ts)[0] # works\n",
    "        # return min(ts, key=abs) # works\n",
    "\n",
    "        \"\"\"\n",
    "        if min((abs(x), x) for x in ts)[1] < 0:\n",
    "            if abs(return min((abs(x), x) for x in ts)[1]) in ts:\n",
    "                return abs(return min((abs(x), x) for x in ts)[1])\n",
    "            else:\n",
    "                return min((abs(x), x) for x in ts)[1]\n",
    "        \"\"\"\n",
    "\n"
   ]
  },
  {
   "cell_type": "code",
   "execution_count": 120,
   "id": "60cb2a08",
   "metadata": {},
   "outputs": [],
   "source": [
    "import sys\n",
    "import math\n",
    "from contextlib import redirect_stdout\n",
    "\n",
    "\n",
    "def compute_closest_to_zero(ts):\n",
    "    # Write your code here\n",
    "    # To debug: print(\"Debug messages...\", file=sys.stderr, flush=True)\n",
    "    if len(ts) == 0:\n",
    "        return 0\n",
    "    else:\n",
    "        if len(ts) == 1 and 0 not in ts:\n",
    "            return ts[0]\n",
    "        \n",
    "        \"\"\" \n",
    "        if len(ts) == 2 and 0 not in ts:\n",
    "            return ts[0]\n",
    "        \"\"\" \n",
    "        \n",
    "        if 0 in ts:\n",
    "            ts.remove(0)\n",
    "\n",
    "        temp = min((abs(x), x) for x in ts)[0]\n",
    "        \n",
    "        if temp < 0 and abs(temp) in ts:\n",
    "            return abs(temp)\n",
    "        \n",
    "        return temp\n"
   ]
  },
  {
   "cell_type": "code",
   "execution_count": null,
   "id": "2c3baf5c",
   "metadata": {},
   "outputs": [],
   "source": []
  },
  {
   "cell_type": "code",
   "execution_count": null,
   "id": "2416fa1b",
   "metadata": {},
   "outputs": [],
   "source": [
    "# ts = [7, 5, 9, 1, 4,]\n",
    "\n",
    "# ts = [15, -7, 9, 14, 7, 12]\n",
    "\n",
    "# ts = [-273]\n",
    "\n",
    "# ts = [5526]\n",
    "\n",
    "# ts = [-15, -7, -9, -14, -12]\n",
    "\n",
    "# ts = [-10, -10]\n",
    "\n",
    "# ts = [-15, -7, -9, -14, -12] \n",
    "\n",
    "# ts = []"
   ]
  },
  {
   "cell_type": "code",
   "execution_count": 182,
   "id": "feceb497",
   "metadata": {},
   "outputs": [],
   "source": [
    "import sys\n",
    "import math\n",
    "from contextlib import redirect_stdout\n",
    "\n",
    "\n",
    "def compute_closest_to_zero(ts):\n",
    "    # Write your code here\n",
    "    # To debug: print(\"Debug messages...\", file=sys.stderr, flush=True)\n",
    "    if len(ts) == 0:\n",
    "        return 0\n",
    "    else:\n",
    "        if len(ts) == 1 and 0 not in ts:\n",
    "            return ts[0]\n",
    "        \n",
    "        \"\"\" \n",
    "        if len(ts) == 2 and 0 not in ts:\n",
    "            return ts[0]\n",
    "        \"\"\" \n",
    "        \n",
    "        if 0 in ts:\n",
    "            ts.remove(0)\n",
    "\n",
    "        # temp = min((abs(x), x) for x in ts)[0]\n",
    "        \n",
    "        temp = list(min((abs(x), x) for x in ts))\n",
    "        print(\"temp couple: \", temp)\n",
    "        print()\n",
    "        print(\"temp0: \", min((abs(x), x) for x in ts)[0])\n",
    "        print()\n",
    "        print(\"temp1: \", min((abs(x), x) for x in ts)[1])\n",
    "        print()\n",
    "        \n",
    "        # return min((abs(x), x) for x in ts)[1]\n",
    "        \n",
    "        if len(temp) == 1:\n",
    "            return temp[0]\n",
    "        else:\n",
    "            if temp[0] == temp[1]:\n",
    "                return temp[0]\n",
    "            elif temp[0] not in ts:\n",
    "                return temp[1]\n",
    "            else:\n",
    "                return temp[0]\n"
   ]
  },
  {
   "cell_type": "code",
   "execution_count": 183,
   "id": "beeeb45a",
   "metadata": {},
   "outputs": [
    {
     "name": "stdout",
     "output_type": "stream",
     "text": [
      "temp couple:  [1, 1]\n",
      "\n",
      "temp0:  1\n",
      "\n",
      "temp1:  1\n",
      "\n"
     ]
    },
    {
     "data": {
      "text/plain": [
       "1"
      ]
     },
     "execution_count": 183,
     "metadata": {},
     "output_type": "execute_result"
    }
   ],
   "source": [
    "compute_closest_to_zero([7, 5, 9, 1, 4,])"
   ]
  },
  {
   "cell_type": "code",
   "execution_count": 184,
   "id": "ddf5b01a",
   "metadata": {},
   "outputs": [
    {
     "name": "stdout",
     "output_type": "stream",
     "text": [
      "temp couple:  [1, 1]\n",
      "\n",
      "temp0:  1\n",
      "\n",
      "temp1:  1\n",
      "\n"
     ]
    },
    {
     "data": {
      "text/plain": [
       "1"
      ]
     },
     "execution_count": 184,
     "metadata": {},
     "output_type": "execute_result"
    }
   ],
   "source": [
    "compute_closest_to_zero([7, -5, 9, 1, 4,])"
   ]
  },
  {
   "cell_type": "code",
   "execution_count": 185,
   "id": "4b8967ce",
   "metadata": {},
   "outputs": [
    {
     "name": "stdout",
     "output_type": "stream",
     "text": [
      "temp couple:  [7, -7]\n",
      "\n",
      "temp0:  7\n",
      "\n",
      "temp1:  -7\n",
      "\n"
     ]
    },
    {
     "data": {
      "text/plain": [
       "7"
      ]
     },
     "execution_count": 185,
     "metadata": {},
     "output_type": "execute_result"
    }
   ],
   "source": [
    "compute_closest_to_zero([15, -7, 9, 14, 7, 12, 0])"
   ]
  },
  {
   "cell_type": "code",
   "execution_count": 186,
   "id": "21e5ac2b",
   "metadata": {},
   "outputs": [
    {
     "name": "stdout",
     "output_type": "stream",
     "text": [
      "temp couple:  [7, -7]\n",
      "\n",
      "temp0:  7\n",
      "\n",
      "temp1:  -7\n",
      "\n"
     ]
    },
    {
     "data": {
      "text/plain": [
       "7"
      ]
     },
     "execution_count": 186,
     "metadata": {},
     "output_type": "execute_result"
    }
   ],
   "source": [
    "compute_closest_to_zero([15, -7, 9, 14, 7, 12])"
   ]
  },
  {
   "cell_type": "code",
   "execution_count": 187,
   "id": "514e944c",
   "metadata": {},
   "outputs": [
    {
     "data": {
      "text/plain": [
       "-273"
      ]
     },
     "execution_count": 187,
     "metadata": {},
     "output_type": "execute_result"
    }
   ],
   "source": [
    "compute_closest_to_zero([-273])"
   ]
  },
  {
   "cell_type": "code",
   "execution_count": 188,
   "id": "2df793fd",
   "metadata": {},
   "outputs": [
    {
     "data": {
      "text/plain": [
       "5526"
      ]
     },
     "execution_count": 188,
     "metadata": {},
     "output_type": "execute_result"
    }
   ],
   "source": [
    "compute_closest_to_zero([5526])"
   ]
  },
  {
   "cell_type": "code",
   "execution_count": 189,
   "id": "625d8c49",
   "metadata": {},
   "outputs": [
    {
     "name": "stdout",
     "output_type": "stream",
     "text": [
      "temp couple:  [7, -7]\n",
      "\n",
      "temp0:  7\n",
      "\n",
      "temp1:  -7\n",
      "\n"
     ]
    },
    {
     "data": {
      "text/plain": [
       "-7"
      ]
     },
     "execution_count": 189,
     "metadata": {},
     "output_type": "execute_result"
    }
   ],
   "source": [
    "compute_closest_to_zero([-15, -7, -9, -14, -12])"
   ]
  },
  {
   "cell_type": "code",
   "execution_count": 190,
   "id": "6e9a6b31",
   "metadata": {},
   "outputs": [
    {
     "name": "stdout",
     "output_type": "stream",
     "text": [
      "temp couple:  [10, -10]\n",
      "\n",
      "temp0:  10\n",
      "\n",
      "temp1:  -10\n",
      "\n"
     ]
    },
    {
     "data": {
      "text/plain": [
       "-10"
      ]
     },
     "execution_count": 190,
     "metadata": {},
     "output_type": "execute_result"
    }
   ],
   "source": [
    "compute_closest_to_zero([-10, -10])"
   ]
  },
  {
   "cell_type": "code",
   "execution_count": null,
   "id": "7a26ab03",
   "metadata": {},
   "outputs": [],
   "source": []
  },
  {
   "cell_type": "code",
   "execution_count": null,
   "id": "72e0d1a0",
   "metadata": {},
   "outputs": [],
   "source": []
  },
  {
   "cell_type": "code",
   "execution_count": null,
   "id": "97e7bcad",
   "metadata": {},
   "outputs": [],
   "source": []
  },
  {
   "cell_type": "code",
   "execution_count": null,
   "id": "6ee09532",
   "metadata": {},
   "outputs": [],
   "source": []
  },
  {
   "cell_type": "code",
   "execution_count": 149,
   "id": "32d4b8ef",
   "metadata": {},
   "outputs": [
    {
     "data": {
      "text/plain": [
       "1"
      ]
     },
     "execution_count": 149,
     "metadata": {},
     "output_type": "execute_result"
    }
   ],
   "source": [
    "lst = [237, 72, -18, 237, 236, 237, 60, -158, -273, -78, 492, 243, 1]\n",
    "min((abs(x), x) for x in lst)[1]"
   ]
  },
  {
   "cell_type": "code",
   "execution_count": null,
   "id": "e86add2c",
   "metadata": {},
   "outputs": [],
   "source": []
  }
 ],
 "metadata": {
  "kernelspec": {
   "display_name": "Python 3 (ipykernel)",
   "language": "python",
   "name": "python3"
  },
  "language_info": {
   "codemirror_mode": {
    "name": "ipython",
    "version": 3
   },
   "file_extension": ".py",
   "mimetype": "text/x-python",
   "name": "python",
   "nbconvert_exporter": "python",
   "pygments_lexer": "ipython3",
   "version": "3.8.11"
  }
 },
 "nbformat": 4,
 "nbformat_minor": 5
}
